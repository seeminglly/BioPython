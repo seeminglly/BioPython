{
 "cells": [
  {
   "cell_type": "markdown",
   "id": "6860a301",
   "metadata": {},
   "source": [
    "### Sequence record = SeqRecord\n",
    "Seq객체에 추가적인 정보들을 넣을 수 있는 객체(서열의 이름, NCBI의 ID etc.)"
   ]
  },
  {
   "cell_type": "code",
   "execution_count": 1,
   "id": "48d03615",
   "metadata": {},
   "outputs": [
    {
     "name": "stdout",
     "output_type": "stream",
     "text": [
      "ID: <unknown id>\n",
      "Name: <unknown name>\n",
      "Description: <unknown description>\n",
      "Number of features: 0\n",
      "Seq('ACGT')\n"
     ]
    }
   ],
   "source": [
    "# seqRecord 객체 만드는 방법\n",
    "# 5.1 simple_seqrecord_object_example_1\n",
    "\n",
    "from Bio.Seq import Seq\n",
    "from Bio.SeqRecord import SeqRecord \n",
    "\n",
    "seq = Seq(\"ACGT\") #먼저 시퀀스 객체를 만든다\n",
    "seqRecord = SeqRecord(seq) #SeqRecord 객체를 만든다\n",
    "\n",
    "print(seqRecord)"
   ]
  },
  {
   "cell_type": "code",
   "execution_count": 2,
   "id": "0f8b2891",
   "metadata": {},
   "outputs": [
    {
     "name": "stdout",
     "output_type": "stream",
     "text": [
      "ID: NC_1111\n",
      "Name: Test\n",
      "Description: <unknown description>\n",
      "Number of features: 0\n",
      "Seq('ACGT')\n"
     ]
    }
   ],
   "source": [
    "# seqRecord객체를 생성할 때 초깃값 넣는 방법\n",
    "# 5.1 simple_seqrecord_object_example_2\n",
    "\n",
    "from Bio.Seq import Seq\n",
    "from Bio.SeqRecord import SeqRecord\n",
    "\n",
    "simple_seq = Seq(\"ACGT\")\n",
    "simple_seqRecord = SeqRecord(simple_seq, id = \"NC_1111\", name = \"Test\") #seqRecord객체를 만들 때 초깃값(id, name)을 집어넣음\n",
    "\n",
    "print(simple_seqRecord)"
   ]
  },
  {
   "cell_type": "code",
   "execution_count": 3,
   "id": "afc2ac33",
   "metadata": {},
   "outputs": [
    {
     "name": "stdout",
     "output_type": "stream",
     "text": [
      "ID: NC_1111\n",
      "Name: Another name\n",
      "Description: <unknown description>\n",
      "Number of features: 0\n",
      "Seq('ACGT')\n"
     ]
    }
   ],
   "source": [
    "# 객체 생성 후, 속성값을 바꾸는 방법\n",
    "# 5.1 simple_seqrecord_object_example_3\n",
    "\n",
    "from Bio.Seq import Seq\n",
    "from Bio.SeqRecord import SeqRecord\n",
    "\n",
    "simple_seq = Seq(\"ACGT\")\n",
    "simple_seqRecord = SeqRecord(simple_seq, id = \"NC_1111\", name = \"Test\")\n",
    "simple_seqRecord.name = \"Another name\" #객체 생성 후 속성값 변경\n",
    "\n",
    "print(simple_seqRecord)"
   ]
  },
  {
   "cell_type": "code",
   "execution_count": null,
   "id": "acfb196e",
   "metadata": {},
   "outputs": [],
   "source": []
  }
 ],
 "metadata": {
  "kernelspec": {
   "display_name": "Python 3",
   "language": "python",
   "name": "python3"
  },
  "language_info": {
   "codemirror_mode": {
    "name": "ipython",
    "version": 3
   },
   "file_extension": ".py",
   "mimetype": "text/x-python",
   "name": "python",
   "nbconvert_exporter": "python",
   "pygments_lexer": "ipython3",
   "version": "3.8.8"
  }
 },
 "nbformat": 4,
 "nbformat_minor": 5
}
