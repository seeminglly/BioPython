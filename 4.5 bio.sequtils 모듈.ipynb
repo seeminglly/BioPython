{
 "cells": [
  {
   "cell_type": "markdown",
   "id": "0570a1f0",
   "metadata": {},
   "source": [
    "Bio.SeqUtils 모듈: GC-contents를 간단히 계산해주거나 서열의 무게 계산, 유전서열에서 나올 수 있는 모든 아미노산 서열 정리하여 보여주는 메서드들을 담고 있음."
   ]
  },
  {
   "cell_type": "markdown",
   "id": "907da51e",
   "metadata": {},
   "source": [
    "### Bio.SeqUtils로 gc-contents 계산하기"
   ]
  },
  {
   "cell_type": "code",
   "execution_count": 3,
   "id": "d3b71f07",
   "metadata": {},
   "outputs": [
    {
     "name": "stdout",
     "output_type": "stream",
     "text": [
      "44.44444444444444\n"
     ]
    }
   ],
   "source": [
    "from Bio.Seq import Seq\n",
    "from Bio.SeqUtils import GC\n",
    "\n",
    "exon_seq = Seq(\"ATGCAGTAG\")\n",
    "gc_contents = GC(exon_seq)\n",
    "print(gc_contents)"
   ]
  },
  {
   "cell_type": "markdown",
   "id": "f02c73c9",
   "metadata": {},
   "source": [
    "### 서열 무게 계산"
   ]
  },
  {
   "cell_type": "code",
   "execution_count": 10,
   "id": "cc0c4cd8",
   "metadata": {},
   "outputs": [
    {
     "name": "stdout",
     "output_type": "stream",
     "text": [
      "2842.8206999999993\n"
     ]
    }
   ],
   "source": [
    "# molecular_weight 메서드\n",
    "\n",
    "from Bio.Seq import Seq\n",
    "from Bio.SeqUtils import molecular_weight\n",
    "\n",
    "seq1 = Seq(\"ATGCAGTAG\")\n",
    "\n",
    "print(molecular_weight(seq1))"
   ]
  },
  {
   "cell_type": "markdown",
   "id": "755a5d72",
   "metadata": {},
   "source": [
    "### 가능한 모든 번역 구하기"
   ]
  },
  {
   "cell_type": "code",
   "execution_count": 11,
   "id": "f8cbe068",
   "metadata": {},
   "outputs": [
    {
     "name": "stdout",
     "output_type": "stream",
     "text": [
      "GC_Frame: a:6 t:6 g:4 c:2 \n",
      "Sequence: atgccttgaaatgtatag, 18 nt, 33.33 %GC\n",
      "\n",
      "\n",
      "1/1\n",
      "  A  L  K  C  I\n",
      " C  L  E  M  Y\n",
      "M  P  *  N  V  *\n",
      "atgccttgaaatgtatag   33 %\n",
      "tacggaactttacatatc\n",
      "G  Q  F  T  Y \n",
      " H  R  S  I  Y  L\n",
      "  A  K  F  H  I\n",
      "\n",
      "\n"
     ]
    }
   ],
   "source": [
    "# six_frame_translations\n",
    "\n",
    "from Bio.Seq import Seq\n",
    "from Bio.SeqUtils import six_frame_translations\n",
    "\n",
    "seq1 = Seq(\"ATGCCTTGAAATGTATAG\")\n",
    "print(six_frame_translations(seq1))"
   ]
  },
  {
   "cell_type": "markdown",
   "id": "10c31e74",
   "metadata": {},
   "source": [
    "### DNA 서열 Tm 계산"
   ]
  },
  {
   "cell_type": "markdown",
   "id": "3d72b583",
   "metadata": {},
   "source": [
    "Tm: 이중나선의 절반 -> 단일나선이 될 때의 온도\n",
    "gc-contents(%)가 높을수록 Tm값 증가(gc간 결합이 at간 결합보다 힘이 세기 때문)"
   ]
  },
  {
   "cell_type": "code",
   "execution_count": 14,
   "id": "7791d75b",
   "metadata": {},
   "outputs": [
    {
     "name": "stdout",
     "output_type": "stream",
     "text": [
      "84.0\n"
     ]
    }
   ],
   "source": [
    "# mt.Tm_Wallace 메소드\n",
    "\n",
    "from Bio.SeqUtils import MeltingTemp as mt\n",
    "from Bio.Seq import Seq\n",
    "\n",
    "myseq = Seq(\"AGTCTGGGACGGCGCGGCAATCGCA\")\n",
    "print(mt.Tm_Wallace(myseq))"
   ]
  },
  {
   "cell_type": "markdown",
   "id": "bff95d68",
   "metadata": {},
   "source": [
    "### 아미노산 서열의 약자와 기호간 변환"
   ]
  },
  {
   "cell_type": "code",
   "execution_count": 15,
   "id": "0d2a3de6",
   "metadata": {},
   "outputs": [
    {
     "name": "stdout",
     "output_type": "stream",
     "text": [
      "LKMVITWF\n"
     ]
    }
   ],
   "source": [
    "# seq1메서드, seq3메서드\n",
    "\n",
    "from Bio.SeqUtils import seq1\n",
    "\n",
    "essential_amino_acid_3 = \"LeuLysMetValIleThrTrpPhe\"\n",
    "print(seq1(essential_amino_acid_3))"
   ]
  },
  {
   "cell_type": "code",
   "execution_count": null,
   "id": "4f696fdb",
   "metadata": {},
   "outputs": [],
   "source": []
  }
 ],
 "metadata": {
  "kernelspec": {
   "display_name": "Python 3",
   "language": "python",
   "name": "python3"
  },
  "language_info": {
   "codemirror_mode": {
    "name": "ipython",
    "version": 3
   },
   "file_extension": ".py",
   "mimetype": "text/x-python",
   "name": "python",
   "nbconvert_exporter": "python",
   "pygments_lexer": "ipython3",
   "version": "3.8.8"
  }
 },
 "nbformat": 4,
 "nbformat_minor": 5
}
