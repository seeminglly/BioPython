{
 "cells": [
  {
   "cell_type": "markdown",
   "id": "2bd9c2df",
   "metadata": {},
   "source": [
    "### 첫 번째 종결코돈에서 번역 종료"
   ]
  },
  {
   "cell_type": "code",
   "execution_count": 4,
   "id": "bfc2dfcd",
   "metadata": {
    "scrolled": true
   },
   "outputs": [
    {
     "name": "stdout",
     "output_type": "stream",
     "text": [
      "MN*V*N\n"
     ]
    }
   ],
   "source": [
    "from Bio.Seq import Seq\n",
    "\n",
    "mRNA = Seq(\"AUGAACUAAGUUUAGAAU\")\n",
    "ptn = mRNA.translate()\n",
    "print(ptn)"
   ]
  },
  {
   "cell_type": "markdown",
   "id": "f891dbf0",
   "metadata": {},
   "source": [
    "처음 종결코돈(*)에서 번역을 종료하려면"
   ]
  },
  {
   "cell_type": "code",
   "execution_count": 6,
   "id": "24a2d90c",
   "metadata": {},
   "outputs": [
    {
     "name": "stdout",
     "output_type": "stream",
     "text": [
      "MN\n"
     ]
    }
   ],
   "source": [
    "from Bio.Seq import Seq\n",
    "\n",
    "mRNA = Seq(\"AUGAACUAAGUUUAGAAU\")\n",
    "ptn = mRNA.translate(to_stop=True)\n",
    "print(ptn)"
   ]
  },
  {
   "cell_type": "markdown",
   "id": "925a8c9d",
   "metadata": {},
   "source": [
    "### 종결코돈 기준으로 서열 나누기"
   ]
  },
  {
   "cell_type": "code",
   "execution_count": 7,
   "id": "d4ebbf76",
   "metadata": {},
   "outputs": [
    {
     "name": "stdout",
     "output_type": "stream",
     "text": [
      "MN*V*N\n",
      "MN\n",
      "V\n",
      "N\n"
     ]
    }
   ],
   "source": [
    "from Bio.Seq import Seq\n",
    "\n",
    "mrna = Seq(\"AUGAACUAAGUUUAGAAU\")\n",
    "ptn = mrna.translate()\n",
    "print(ptn)\n",
    "for ptn in ptn.split(\"*\"):\n",
    "    print(ptn)"
   ]
  },
  {
   "cell_type": "markdown",
   "id": "7518ffaa",
   "metadata": {},
   "source": [
    "### DNA Sequence 상보적,역상보적 서열 만들기"
   ]
  },
  {
   "cell_type": "code",
   "execution_count": 9,
   "id": "18c1cfc4",
   "metadata": {},
   "outputs": [
    {
     "name": "stdout",
     "output_type": "stream",
     "text": [
      "ATATTTCCGTTATACGTCATC\n",
      "CTACTGCATATTGCCTTTATA\n"
     ]
    }
   ],
   "source": [
    "from Bio.Seq import Seq\n",
    "\n",
    "seq = Seq(\"TATAAAGGCAATATGCAGTAG\")\n",
    "comp_seq = seq.complement()\n",
    "rev_comp_seq = seq.reverse_complement()\n",
    "print(comp_seq)\n",
    "print(rev_comp_seq)"
   ]
  },
  {
   "cell_type": "markdown",
   "id": "f60316ac",
   "metadata": {},
   "source": [
    "Object.complement(): Sequence객체가 가진 서열의 상보적 서열을 만들어 반환\n",
    "Object.reverse_complement(): 역상보적 서열 반환"
   ]
  },
  {
   "cell_type": "markdown",
   "id": "608f030a",
   "metadata": {},
   "source": [
    "### 코돈 테이블"
   ]
  },
  {
   "cell_type": "code",
   "execution_count": 12,
   "id": "a7a7e1f9",
   "metadata": {},
   "outputs": [
    {
     "name": "stdout",
     "output_type": "stream",
     "text": [
      "Table 1 Standard, SGC0\n",
      "\n",
      "  |  T      |  C      |  A      |  G      |\n",
      "--+---------+---------+---------+---------+--\n",
      "T | TTT F   | TCT S   | TAT Y   | TGT C   | T\n",
      "T | TTC F   | TCC S   | TAC Y   | TGC C   | C\n",
      "T | TTA L   | TCA S   | TAA Stop| TGA Stop| A\n",
      "T | TTG L(s)| TCG S   | TAG Stop| TGG W   | G\n",
      "--+---------+---------+---------+---------+--\n",
      "C | CTT L   | CCT P   | CAT H   | CGT R   | T\n",
      "C | CTC L   | CCC P   | CAC H   | CGC R   | C\n",
      "C | CTA L   | CCA P   | CAA Q   | CGA R   | A\n",
      "C | CTG L(s)| CCG P   | CAG Q   | CGG R   | G\n",
      "--+---------+---------+---------+---------+--\n",
      "A | ATT I   | ACT T   | AAT N   | AGT S   | T\n",
      "A | ATC I   | ACC T   | AAC N   | AGC S   | C\n",
      "A | ATA I   | ACA T   | AAA K   | AGA R   | A\n",
      "A | ATG M(s)| ACG T   | AAG K   | AGG R   | G\n",
      "--+---------+---------+---------+---------+--\n",
      "G | GTT V   | GCT A   | GAT D   | GGT G   | T\n",
      "G | GTC V   | GCC A   | GAC D   | GGC G   | C\n",
      "G | GTA V   | GCA A   | GAA E   | GGA G   | A\n",
      "G | GTG V   | GCG A   | GAG E   | GGG G   | G\n",
      "--+---------+---------+---------+---------+--\n"
     ]
    }
   ],
   "source": [
    "# standard코돈 테이블 출력하기\n",
    "from Bio.Data import CodonTable\n",
    "\n",
    "codon_table = CodonTable.unambiguous_dna_by_name[\"Standard\"]\n",
    "print(codon_table)"
   ]
  },
  {
   "cell_type": "code",
   "execution_count": 13,
   "id": "9851658f",
   "metadata": {},
   "outputs": [
    {
     "name": "stdout",
     "output_type": "stream",
     "text": [
      "Table 2 Vertebrate Mitochondrial, SGC1\n",
      "\n",
      "  |  T      |  C      |  A      |  G      |\n",
      "--+---------+---------+---------+---------+--\n",
      "T | TTT F   | TCT S   | TAT Y   | TGT C   | T\n",
      "T | TTC F   | TCC S   | TAC Y   | TGC C   | C\n",
      "T | TTA L   | TCA S   | TAA Stop| TGA W   | A\n",
      "T | TTG L   | TCG S   | TAG Stop| TGG W   | G\n",
      "--+---------+---------+---------+---------+--\n",
      "C | CTT L   | CCT P   | CAT H   | CGT R   | T\n",
      "C | CTC L   | CCC P   | CAC H   | CGC R   | C\n",
      "C | CTA L   | CCA P   | CAA Q   | CGA R   | A\n",
      "C | CTG L   | CCG P   | CAG Q   | CGG R   | G\n",
      "--+---------+---------+---------+---------+--\n",
      "A | ATT I(s)| ACT T   | AAT N   | AGT S   | T\n",
      "A | ATC I(s)| ACC T   | AAC N   | AGC S   | C\n",
      "A | ATA M(s)| ACA T   | AAA K   | AGA Stop| A\n",
      "A | ATG M(s)| ACG T   | AAG K   | AGG Stop| G\n",
      "--+---------+---------+---------+---------+--\n",
      "G | GTT V   | GCT A   | GAT D   | GGT G   | T\n",
      "G | GTC V   | GCC A   | GAC D   | GGC G   | C\n",
      "G | GTA V   | GCA A   | GAA E   | GGA G   | A\n",
      "G | GTG V(s)| GCG A   | GAG E   | GGG G   | G\n",
      "--+---------+---------+---------+---------+--\n"
     ]
    }
   ],
   "source": [
    "# mitochondrial 코돈 테이블\n",
    "from Bio.Data import CodonTable\n",
    "\n",
    "codon_table = CodonTable.unambiguous_dna_by_name[\"Vertebrate Mitochondrial\"]\n",
    "print(codon_table)"
   ]
  },
  {
   "cell_type": "markdown",
   "id": "43aba51f",
   "metadata": {},
   "source": [
    "### Sequence 객체에서 ORF 찾기"
   ]
  },
  {
   "cell_type": "markdown",
   "id": "ec398bde",
   "metadata": {},
   "source": [
    "ORF(open reading frame): 유전체로부터 mRNA가 전사되고 단백질 생합성 기구에 의해 단백질로 번역될 가능성을 가진 코돈. 시작코돈(ATG)부터 종결코돈(일반적으로 TAA, TAG, TGA)까지의 아미노산을 암호화하는 코돈이 연속적인 배열을 가질 때, ORF(open reading frame)라고 함."
   ]
  },
  {
   "cell_type": "code",
   "execution_count": 17,
   "id": "ac5cd6e9",
   "metadata": {},
   "outputs": [
    {
     "name": "stdout",
     "output_type": "stream",
     "text": [
      "ATGCAG\n"
     ]
    }
   ],
   "source": [
    "# tatabox에서 ORF 찾기\n",
    "from Bio.Seq import Seq\n",
    "\n",
    "tatabox_seq = Seq(\"tataaaggcAATATGCAGTAG\")\n",
    "start_idx = tatabox_seq.find(\"ATG\") #시작코돈\n",
    "end_idx = tatabox_seq.find(\"TAG\") #편의상 종결코돈 TAG로\n",
    "orf = tatabox_seq[start_idx:end_idx+3] \n",
    "print(orf)"
   ]
  },
  {
   "cell_type": "markdown",
   "id": "7a58d35c",
   "metadata": {},
   "source": [
    " "
   ]
  }
 ],
 "metadata": {
  "kernelspec": {
   "display_name": "Python 3",
   "language": "python",
   "name": "python3"
  },
  "language_info": {
   "codemirror_mode": {
    "name": "ipython",
    "version": 3
   },
   "file_extension": ".py",
   "mimetype": "text/x-python",
   "name": "python",
   "nbconvert_exporter": "python",
   "pygments_lexer": "ipython3",
   "version": "3.8.8"
  }
 },
 "nbformat": 4,
 "nbformat_minor": 5
}
