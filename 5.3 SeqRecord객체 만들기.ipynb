{
 "cells": [
  {
   "cell_type": "markdown",
   "id": "fd0f3e8e",
   "metadata": {},
   "source": [
    "### 5.3 SeqRecord 객체 만들기_3ways"
   ]
  },
  {
   "cell_type": "code",
   "execution_count": 3,
   "id": "206ad4a4",
   "metadata": {},
   "outputs": [
    {
     "name": "stdout",
     "output_type": "stream",
     "text": [
      "ID: <unknown id>\n",
      "Name: <unknown name>\n",
      "Description: <unknown description>\n",
      "Number of features: 0\n",
      "Seq('ACGT')\n",
      "----------\n",
      "ID: NC_1111\n",
      "Name: GeneA\n",
      "Description: This is a description.\n",
      "Number of features: 0\n",
      "/Annotation_key1=Annotation_Value1\n",
      "/Annotation_key2=Annotation_Value2\n",
      "Seq('ACGT')\n"
     ]
    }
   ],
   "source": [
    "# 0. Seq객체로부터 SeqRecord객체 만들기\n",
    "# 5.3 seqRecord_example\n",
    "\n",
    "from Bio.Seq import Seq\n",
    "from Bio.SeqRecord import SeqRecord\n",
    "\n",
    "seq = Seq(\"ACGT\")\n",
    "seqRecord = SeqRecord(seq)\n",
    "print(seqRecord)\n",
    "print(\"----------\")\n",
    "\n",
    "#seqRecord객체에 설명 넣기\n",
    "seqRecord.id = \"NC_1111\"\n",
    "seqRecord.name = \"GeneA\"\n",
    "seqRecord.description = \"This is a description.\"\n",
    "seqRecord.annotations[\"Annotation_key1\"] = \"Annotation_Value1\"\n",
    "seqRecord.annotations[\"Annotation_key2\"] = \"Annotation_Value2\"\n",
    "print(seqRecord)"
   ]
  },
  {
   "cell_type": "code",
   "execution_count": 10,
   "id": "99830731",
   "metadata": {},
   "outputs": [
    {
     "name": "stdout",
     "output_type": "stream",
     "text": [
      "<class 'Bio.SeqRecord.SeqRecord'>\n",
      "ID: J01636.1\n",
      "Name: J01636.1\n",
      "Description: J01636.1 E.coli lactose operon with lacI, lacZ, lacY and lacA genes\n",
      "Number of features: 0\n",
      "Seq('GACACCATCGAATGGCGCAAAACCTTTCGCGGTATGGCATGATAGCGCCCGGAA...GAC')\n"
     ]
    }
   ],
   "source": [
    "# 1.1 FASTA파일로부터 SeqRecord객체 만들기1\n",
    "# 5.3 seqRecord_FASTA_example_1\n",
    "# 예시 파일: Escherichia coli(대장균)의 lac 오페론 유전자의 FASTA 서열\n",
    "# SeqIO모듈의 SeqIO.read(): 단일 레코드 읽음\n",
    "\n",
    "from Bio import SeqIO\n",
    "\n",
    "record = SeqIO.read(\"sequence.fasta\", \"fasta\")\n",
    "print(type(record))\n",
    "print(record)"
   ]
  },
  {
   "cell_type": "code",
   "execution_count": 14,
   "id": "eab547a8",
   "metadata": {},
   "outputs": [
    {
     "name": "stdout",
     "output_type": "stream",
     "text": [
      "<class 'Bio.SeqIO.FastaIO.FastaIterator'>\n",
      "<Bio.SeqIO.FastaIO.FastaIterator object at 0x7fb912f1cb80>\n",
      "<class 'str'>\n",
      "A\n",
      "<class 'str'>\n",
      "C\n",
      "<class 'str'>\n",
      "G\n",
      "<class 'str'>\n",
      "T\n"
     ]
    }
   ],
   "source": [
    "# 1.2 FASTA파일로부터 SeqRecord객체 만들기2\n",
    "# 5.3 seqRecord_FASTA_example_2\n",
    "# SeqIO모듈의 SeqIO.parse(): 하나 이상의 레코드 읽을 수 있음(두 개 이상 레코드를 읽을 땐 parse 사용)\n",
    "\n",
    "from Bio import SeqIO\n",
    "\n",
    "record = SeqIO.parse(\"one.fasta\", \"fasta\")\n",
    "print(type(record))\n",
    "print(record)\n",
    "\n",
    "for s in seq:\n",
    "    print(type(s))\n",
    "    print(s)"
   ]
  },
  {
   "cell_type": "code",
   "execution_count": 16,
   "id": "e48d0979",
   "metadata": {},
   "outputs": [
    {
     "name": "stdout",
     "output_type": "stream",
     "text": [
      "<class 'Bio.SeqIO.FastaIO.FastaIterator'>\n",
      "<Bio.SeqIO.FastaIO.FastaIterator object at 0x7fb912f1c610>\n",
      "<class 'Bio.SeqRecord.SeqRecord'>\n",
      "ID: one\n",
      "Name: one\n",
      "Description: one\n",
      "Number of features: 0\n",
      "Seq('AAAACCCCGGGGTTTTACGTACGTACGTACGT')\n",
      "<class 'Bio.SeqRecord.SeqRecord'>\n",
      "ID: two\n",
      "Name: two\n",
      "Description: two\n",
      "Number of features: 0\n",
      "Seq('AAAACCCCGGGGTTTTACGTACGTACGTACGT')\n"
     ]
    }
   ],
   "source": [
    "# 1.2 FASTA파일로부터 SeqRecord객체 만들기3\n",
    "# 5.3 seqRecord_FASTA_example_3\n",
    "# 두 개의 레코드 읽는 경우\n",
    "\n",
    "from Bio import SeqIO\n",
    "\n",
    "seq = SeqIO.parse(\"two.fasta\", \"fasta\")\n",
    "print(type(seq))\n",
    "print(seq)\n",
    "\n",
    "for s in seq:\n",
    "    print(type(s))\n",
    "    print(s)"
   ]
  },
  {
   "cell_type": "code",
   "execution_count": 17,
   "id": "6c11c6cf",
   "metadata": {},
   "outputs": [
    {
     "name": "stdout",
     "output_type": "stream",
     "text": [
      "<class 'Bio.SeqRecord.SeqRecord'>\n",
      "ID: J01636.1\n",
      "Name: ECOLAC\n",
      "Description: E.coli lactose operon with lacI, lacZ, lacY and lacA genes\n",
      "Number of features: 22\n",
      "/molecule_type=DNA\n",
      "/topology=linear\n",
      "/data_file_division=BCT\n",
      "/date=05-MAY-1993\n",
      "/accessions=['J01636', 'J01637', 'K01483', 'K01793']\n",
      "/sequence_version=1\n",
      "/keywords=['acetyltransferase', 'beta-D-galactosidase', 'galactosidase', 'lac operon', 'lac repressor protein', 'lacA gene', 'lacI gene', 'lacY gene', 'lacZ gene', 'lactose permease', 'mutagenesis', 'palindrome', 'promoter region', 'thiogalactoside acetyltransferase']\n",
      "/source=Escherichia coli\n",
      "/organism=Escherichia coli\n",
      "/taxonomy=['Bacteria', 'Proteobacteria', 'Gammaproteobacteria', 'Enterobacterales', 'Enterobacteriaceae', 'Escherichia']\n",
      "/references=[Reference(title='The nucleotide sequence of the lac operator', ...), Reference(title='The nucleotide sequence of the lactose messenger ribonucleic acid transcribed from the UV5 promoter mutant of Escherichia coli', ...), Reference(title='Sequences of controlling regions of the lactose operon', ...), Reference(title='Lactose operator sequences and the action of lac repressor', ...), Reference(title='Genetic regulation: the Lac control region', ...), Reference(title='Contacts between the lac repressor and DNA revealed by methylation', ...), Reference(title='Structure of the lactose operator', ...), Reference(title='Synthetic lac operator DNA is functional in vivo', ...), Reference(title='Nucleotide sequence changes produced by mutations in the lac promoter of Escherichia coli', ...), Reference(title=\"5'-Terminal nucleotide sequence of Escherichia coli lactose repressor mRNA: features of translational initiation and reinitiation sites\", ...), Reference(title=\"DNA sequence for a low-level promoter of the lac repressor gene and an 'up' promoter mutation\", ...), Reference(title='Sequence of the lacI gene', ...), Reference(title='Correlation of nonsense sites in the lacI gene with specific codons in the nucleotide sequence', ...), Reference(title='DNA sequence alteration resulting from a mutation impairing promoter function in the lac repressor gene', ...), Reference(title='Sequence of the lactose permease gene', ...), Reference(title='Genetic and sequencing studies of the specificity of transposition into the lac region of E. coli', ...), Reference(title='Topography of interaction of Escherichia coli RNA polymerase subunits with lac UV5 promoter', ...), Reference(title='Variants of a cloned synthetic lactose operator. I. A palindromic dimer lactose operator derived from one stand of the cloned 40-base pair operator', ...), Reference(title='Cloning and characterization of the natural lactose operator', ...), Reference(title='Variants of a cloned synthetic lactose operator. II. Chloramphenicol-resistant revertants retaining a lactose operator in the CAT gene of plasmid pBR325', ...), Reference(title='The DNA sequence change resulting from the IQ1 mutation, which greatly increases promoter strength', ...), Reference(title='Mutations in the lacY gene of Escherichia coli define functional organization of lactose permease', ...), Reference(title='Construction and analysis of in vivo activity of E. coli promoter hybrids and promoter mutants that alter the -35 to -10 spacing', ...), Reference(title='A termination site for LacI transcription is between the CAP site and the lac promoter', ...), Reference(title='Effects of neighboring DNA homopolymers on the biochemical and physical properties of the Escherichia coli lactose promoter. I. Cloning and characterization studies', ...), Reference(title='Segment-specific mutagenesis: extensive mutagenesis of a lac promoter/operator element', ...), Reference(title='Footprinting with MPE.Fe(II). Complementary-strand analyses of distamycin- and actinomycin-binding sites on heterogeneous DNA', ...), Reference(title='Sequence of the lacZ gene of Escherichia coli', ...), Reference(title='Lac repressor mRNA transcription terminates in vivo in the lac control region', ...), Reference(title='A perfectly symmetric lac operator binds the lac repressor very tightly', ...), Reference(title='Structural intermediates of deletion mutagenesis: a role for palindromic DNA', ...), Reference(title='Changes in the DNA structure of the lac UV5 promoter during formation of an open complex with Escherichia coli RNA polymerase', ...), Reference(title='Intermediates in transcription initiation from the E. coli lac UV5 promoter', ...), Reference(title='Effects of heterologous ribosomal binding sites on the transcription and translation of the lacZ gene of Escherichia coli', ...), Reference(title='lac Up-promoter mutants with increased homology to the consensus promoter sequence', ...), Reference(title='A frameshift mutation at the junction of an IS1 insertion within lacZ restores beta-galactosidase activity via formation of an active lacZ-IS1 fusion protein', ...), Reference(title='DNA sequence of the lactose operon: the lacA gene and the transcriptional termination region', ...)]\n",
      "/comment=Original source text: Escherichia coli DNA; mRNA; clone\n",
      "lambda-h80dlac DNA; clone puk217; pgm8 (see comment).\n",
      "[3]  sites; UV5 mRNA transcripts and operator mutants. [(in)\n",
      "Sund,H. and Blauer,G. (eds.);Protein-Ligand Interactions:\n",
      "193-207;Walter de]  sites; operator mutational analysis. [7]\n",
      "sites; S1 and mung bean nuclease action on operator DNA. [9]\n",
      "sites; class I, II and III promoter mutant analysis. [13]  sites;\n",
      "lacI mutant analysis.\n",
      "[16]  sites; Tn5, Tn9 and Tn10 insertion sites in lac region. [14]\n",
      "sites; lacI promoter mutation UJ177.\n",
      "[18]  sites; palindromic dimer operator;.\n",
      "[19]  sites; natural operator sequence.\n",
      "[20]  sites; operator mutational analysis.\n",
      "[21]  sites; lacI-Q deletion.\n",
      "[17]  sites; RNA polymerase UV5 promoter interaction. [22]  sites;\n",
      "lacY mutational analysis.\n",
      "[24]  sites; lacI-promoted transcription termination. [25]  sites;\n",
      "wt and UV5 promoter sequence studies. [23]  sites; UV5 promoter\n",
      "mutational analysis.\n",
      "[30]  sites; perfectly symmetric operator sequence. [29]  sites;\n",
      "lacI mRNA termination site.\n",
      "[27]  sites; distamycin and actinomycin binding to promoter. [31]\n",
      "sites; lacI deletion studies.\n",
      "[35]  sites; promoter mutational studies.\n",
      "[33]  sites; DNAase I studies with promoter sequence. [34]  sites;\n",
      "ribosomal binding and translation initiation for lacZ. [36]  sites;\n",
      "insertion sequence IS1 integration in lacZ;. [32]  sites; DNAase I\n",
      "studies with promoter.\n",
      "[1] first reports a 27 bp operator(sites 1240-1266) with two-fold\n",
      "symmetries; the operator has also been defined to be bases\n",
      "1246-1266 or bases 1239-1273 [8]. [(in) Kjeldgaard,N.C. and Maaloe,\n",
      "O.(eds);Control of ribosome synthesis: 138-143;A] explores the\n",
      "ability of lac\n",
      "repressor protein to affect methylation of operator DNA.  [8]\n",
      "argues that DNA on both sides of the 21 bp operator (bases\n",
      "1246-1266) affects repressor binding but that the sequences of this\n",
      "DNA are probably not critical. [5] gives a larger sequence known as\n",
      "the promoter-operator region for the wild-type, whereas [2] and\n",
      "[26] give portions of this region for the mutant strain UV5. Within\n",
      "the promoter region, bases 1162-1199 are identified as the\n",
      "catabolite gene activator protein binding site (cap) and bases\n",
      "1200-1245 are the RNA polymerase interaction site. [10] reports a\n",
      "sequence for the 5'end of the lacI (repressor) gene and discusses\n",
      "restart in mutant strains. [11] presents a sequence for the lacI\n",
      "promoter region and identifies an I-Q mutation which enhances lacI\n",
      "transcription approximately ten-fold. [12] gives a complete\n",
      "sequence\n",
      "for lacI which agrees with the known lac repressor sequence. [26]\n",
      "examines the promoter-operator region in the UV5 strain (lac109)\n",
      "and studies 23 mutant derivatives of this sequence. This sequence\n",
      "agrees with known protein sequences for the lacZ, lacY and lacA\n",
      "enzymes. [15] notes that the fMet codon is not present\n",
      "for lacA and suggests that the 'ttg' codon (5727-5729), which\n",
      "immediately precedes the mature N-terminal asparagine codon, is the\n",
      "start codon. The cds for lacZ, lacY and lacA are included on a\n",
      "single mRNA transcript.\n",
      "Complete source information:\n",
      "Escherichia coli DNA [1],[(in) Kjeldgaard,N.C. and Maaloe,O.(eds);\n",
      "Control of ribosome synthesis: 138-143;A],[8],[12],[26]; mRNA [2],\n",
      "[5],[10]; clone\n",
      "lambda-h80dlac DNA [11],[15]; clone puk217 [28]; pgm8 [37].\n",
      "Seq('GACACCATCGAATGGCGCAAAACCTTTCGCGGTATGGCATGATAGCGCCCGGAA...GAC')\n"
     ]
    }
   ],
   "source": [
    "# 2 GenBank파일로부터 SeqRecord객체 만들기\n",
    "# 5.3 seqRecord_GenBank_example\n",
    "# 예시 파일: Escherichia coli(대장균)의 lac 오페론 유전자의 GenBank포맷 파일\n",
    "\n",
    "from Bio import SeqIO\n",
    "\n",
    "seq = SeqIO.read(\"sequence.gb\",\"genbank\")\n",
    "print(type(seq))\n",
    "print(seq)"
   ]
  },
  {
   "cell_type": "code",
   "execution_count": null,
   "id": "67d98858",
   "metadata": {},
   "outputs": [],
   "source": []
  }
 ],
 "metadata": {
  "kernelspec": {
   "display_name": "Python 3",
   "language": "python",
   "name": "python3"
  },
  "language_info": {
   "codemirror_mode": {
    "name": "ipython",
    "version": 3
   },
   "file_extension": ".py",
   "mimetype": "text/x-python",
   "name": "python",
   "nbconvert_exporter": "python",
   "pygments_lexer": "ipython3",
   "version": "3.8.8"
  }
 },
 "nbformat": 4,
 "nbformat_minor": 5
}
