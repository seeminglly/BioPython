{
 "cells": [
  {
   "cell_type": "code",
   "execution_count": 1,
   "id": "4bcb59a0",
   "metadata": {},
   "outputs": [
    {
     "name": "stdout",
     "output_type": "stream",
     "text": [
      "ACGT\n",
      "ACGT\n",
      "True\n"
     ]
    }
   ],
   "source": [
    "# 5.4 compare_example_1\n",
    "\n",
    "str1 = \"ACGT\"\n",
    "str2 = \"ACGT\"\n",
    "\n",
    "print(str1)\n",
    "print(str2)\n",
    "print(str1==str2)"
   ]
  },
  {
   "cell_type": "code",
   "execution_count": 4,
   "id": "c35fe414",
   "metadata": {},
   "outputs": [
    {
     "name": "stdout",
     "output_type": "stream",
     "text": [
      "ID: <unknown id>\n",
      "Name: <unknown name>\n",
      "Description: <unknown description>\n",
      "Number of features: 0\n",
      "Seq('ACGT')\n",
      "----------\n",
      "ID: <unknown id>\n",
      "Name: <unknown name>\n",
      "Description: <unknown description>\n",
      "Number of features: 0\n",
      "Seq('ACGT')\n",
      "----------\n",
      "True\n"
     ]
    }
   ],
   "source": [
    "# 5.4 compare_example_2\n",
    "\n",
    "from Bio.Seq import Seq\n",
    "from Bio.SeqRecord import SeqRecord\n",
    "\n",
    "seq1 = Seq(\"ACGT\")\n",
    "record1 = SeqRecord(seq1)\n",
    "print(record1)\n",
    "\n",
    "print(\"----------\")\n",
    "\n",
    "seq2 = Seq(\"ACGT\")\n",
    "record2 = SeqRecord(seq2)\n",
    "print(record2)\n",
    "\n",
    "print(\"----------\")\n",
    "\n",
    "print(record1.seq == record2.seq)"
   ]
  },
  {
   "cell_type": "markdown",
   "id": "91cddfe8",
   "metadata": {},
   "source": [
    "$ 그냥 print(record1 == record2) 하면 에러남"
   ]
  },
  {
   "cell_type": "code",
   "execution_count": null,
   "id": "77180e53",
   "metadata": {},
   "outputs": [],
   "source": []
  }
 ],
 "metadata": {
  "kernelspec": {
   "display_name": "Python 3",
   "language": "python",
   "name": "python3"
  },
  "language_info": {
   "codemirror_mode": {
    "name": "ipython",
    "version": 3
   },
   "file_extension": ".py",
   "mimetype": "text/x-python",
   "name": "python",
   "nbconvert_exporter": "python",
   "pygments_lexer": "ipython3",
   "version": "3.8.8"
  }
 },
 "nbformat": 4,
 "nbformat_minor": 5
}
