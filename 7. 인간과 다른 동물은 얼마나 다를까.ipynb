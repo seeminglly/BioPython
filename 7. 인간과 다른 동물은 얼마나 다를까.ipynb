{
 "cells": [
  {
   "cell_type": "markdown",
   "id": "e999a02f",
   "metadata": {},
   "source": [
    "### Multiple Sequence Alignment(MSA) 파일 읽기"
   ]
  },
  {
   "cell_type": "markdown",
   "id": "1bfd89dd",
   "metadata": {},
   "source": [
    "from Bio import AlignIO 로 AlignIO모듈을 불러온 다음\n",
    "AlignIO.read(파일 또는 파일을 연 객체, 파일 종류)로 MSA파일 읽을 수 있음"
   ]
  },
  {
   "cell_type": "code",
   "execution_count": 3,
   "id": "e15e3602",
   "metadata": {},
   "outputs": [
    {
     "name": "stdout",
     "output_type": "stream",
     "text": [
      "Alignment with 3 rows and 68 columns\n",
      "GCAUGCAUCUGCAUACGUACGUACGCAUGCAUCAGUCGAUACAU...GAC abc\n",
      "--------------------------------------------...GAU def\n",
      "--------------------------------------------...GAC xyz\n"
     ]
    }
   ],
   "source": [
    "from Bio import AlignIO \n",
    "\n",
    "alignment = AlignIO.read(\"example.aln\",\"clustal\")\n",
    "print(alignment)"
   ]
  },
  {
   "cell_type": "markdown",
   "id": "6ebb47f1",
   "metadata": {},
   "source": [
    "### Alignment 다루기"
   ]
  },
  {
   "cell_type": "code",
   "execution_count": 5,
   "id": "55a012ef",
   "metadata": {},
   "outputs": [
    {
     "name": "stdout",
     "output_type": "stream",
     "text": [
      "GCAUGCAUCUGCAUACGUACGUACGCAUGCAUCAGUCGAUACAUACGUACGUCGUACGUACGU-CGAC - abc\n",
      "-------------------------------------------------CGCGAUGCAUGCAU-CGAU - def\n",
      "---------------------------------------------CAUGCAUCGUACGUACGCAUGAC - xyz\n"
     ]
    }
   ],
   "source": [
    "#Alignment 객체를 문자 슬라이싱하듯 서열 나누는 방법\n",
    "#7.3.read_example_1.py\n",
    "\n",
    "from Bio import AlignIO\n",
    "\n",
    "alignment = AlignIO.read(\"example.aln\",\"clustal\")\n",
    "for record in alignment:\n",
    "    print(\"%s - %s\" % (record.seq, record.id)) #SeqRecord객체에서 seq,id 슬라이싱"
   ]
  },
  {
   "cell_type": "code",
   "execution_count": 7,
   "id": "9c87c70b",
   "metadata": {},
   "outputs": [
    {
     "name": "stdout",
     "output_type": "stream",
     "text": [
      "GCAUGCAUCU - abc\n",
      "---------- - def\n",
      "---------- - xyz\n"
     ]
    }
   ],
   "source": [
    "#7.3.read_example_2.py\n",
    "\n",
    "from Bio import AlignIO\n",
    "\n",
    "alignment = AlignIO.read(\"example.aln\",\"clustal\")\n",
    "for record in alignment:\n",
    "    print(\"%s - %s\" % (record.seq[:10], record.id))#서열에서 앞 10개 서열 가져오기"
   ]
  },
  {
   "cell_type": "markdown",
   "id": "262fee74",
   "metadata": {},
   "source": [
    "### Alignment툴_MUSCLE(보류)\n",
    "HBA단백질에 대한 7개 종이 들어있는 FASTA파일에서부터 MUSCLE툴을 이용해 MSA객체를 만들기"
   ]
  },
  {
   "cell_type": "code",
   "execution_count": 8,
   "id": "5178f9c8",
   "metadata": {},
   "outputs": [],
   "source": [
    "#7.4.3.muscle_cmd_example.py\n",
    "\n",
    "from Bio.Align.Applications import MuscleCommandline\n",
    "\n",
    "muscle_exe = \"/home/user/etc/muscle/muscle3.8.31_i86\""
   ]
  },
  {
   "cell_type": "markdown",
   "id": "3e6f2c52",
   "metadata": {},
   "source": [
    "### WebLogo로 보존 서열 알아보기\n",
    "WebLogosms MSA에서 각 행 서열의 공통 부분 비율만큼 시각화해 그려줌"
   ]
  },
  {
   "cell_type": "code",
   "execution_count": 10,
   "id": "16de1a9f",
   "metadata": {},
   "outputs": [
    {
     "name": "stdout",
     "output_type": "stream",
     "text": [
      "        0      1      2      3      4\n",
      "A:   3.00   7.00   0.00   2.00   1.00\n",
      "C:   0.00   0.00   5.00   2.00   6.00\n",
      "G:   0.00   0.00   0.00   3.00   0.00\n",
      "T:   4.00   0.00   2.00   0.00   0.00\n",
      "\n"
     ]
    },
    {
     "data": {
      "image/png": "[encoded data removed]",
      "text/plain": [
       "<IPython.core.display.Image object>"
      ]
     },
     "execution_count": 10,
     "metadata": {},
     "output_type": "execute_result"
    }
   ],
   "source": [
    "#7.5.2.WebLogo_example_1.py\n",
    "#웹로고 만드는 방법\n",
    "#1.먼저 motifs모듈의 motifs.create()메서드로 Motif객체 만듦\n",
    "#2.그 다음 Motif.weblogo()메서드로 웹로고 그림\n",
    "\n",
    "from Bio.motifs import Motif\n",
    "from Bio import motifs\n",
    "from Bio.Seq import Seq\n",
    "from IPython.display import Image\n",
    "\n",
    "instances = [Seq(\"TACAA\"),\n",
    "            Seq(\"TACGC\"),\n",
    "            Seq(\"TACAC\"),\n",
    "            Seq(\"TACCC\"),\n",
    "            Seq(\"AACCC\"),\n",
    "            Seq(\"AATGC\"),\n",
    "            Seq(\"AATGC\"),\n",
    "            ]\n",
    "m = motifs.create(instances)\n",
    "\n",
    "print(m.counts)\n",
    "Motif.weblogo(m,'test.png')\n",
    "Image(\"test.png\")"
   ]
  },
  {
   "cell_type": "code",
   "execution_count": null,
   "id": "f6f1cd88",
   "metadata": {},
   "outputs": [],
   "source": []
  }
 ],
 "metadata": {
  "kernelspec": {
   "display_name": "Python 3",
   "language": "python",
   "name": "python3"
  },
  "language_info": {
   "codemirror_mode": {
    "name": "ipython",
    "version": 3
   },
   "file_extension": ".py",
   "mimetype": "text/x-python",
   "name": "python",
   "nbconvert_exporter": "python",
   "pygments_lexer": "ipython3",
   "version": "3.8.8"
  }
 },
 "nbformat": 4,
 "nbformat_minor": 5
}
