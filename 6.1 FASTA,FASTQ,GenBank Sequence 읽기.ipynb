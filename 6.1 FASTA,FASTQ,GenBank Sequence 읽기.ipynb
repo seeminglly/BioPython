{
 "cells": [
  {
   "cell_type": "markdown",
   "id": "f8949858",
   "metadata": {},
   "source": [
    "### SeqIO모듈_FASTA 파일 읽기1\n",
    "SeqIO.parse()"
   ]
  },
  {
   "cell_type": "code",
   "execution_count": 4,
   "id": "0ad4dbb7",
   "metadata": {},
   "outputs": [
    {
     "name": "stdout",
     "output_type": "stream",
     "text": [
      "<class 'Bio.SeqIO.FastaIO.FastaIterator'>\n",
      "<class 'Bio.SeqRecord.SeqRecord'>\n",
      "ID: gi|5524211|gb|AAD44166.1|\n",
      "Name: gi|5524211|gb|AAD44166.1|\n",
      "Description: gi|5524211|gb|AAD44166.1| cytochrome b [Elephas maximus maximu]\n",
      "Number of features: 0\n",
      "Seq('LCLYTHIGRNIYYGSYLYSETWNTGIMLLLITMATAFMGYVLPWGQMSFWGATV...ENY')\n",
      "\n"
     ]
    }
   ],
   "source": [
    "# SeqIO.parse()메서드로 레코드 1개 파일 읽기\n",
    "# 6.1.1.parse_example_1.py\n",
    "\n",
    "from Bio import SeqIO\n",
    "\n",
    "seq = SeqIO.parse(\"sample_1.fasta\", \"fasta\")\n",
    "print(type(seq))\n",
    "for s in seq:\n",
    "    print(type(s))\n",
    "    print(s)\n",
    "    print(\"\")"
   ]
  },
  {
   "cell_type": "code",
   "execution_count": 5,
   "id": "c83068b8",
   "metadata": {},
   "outputs": [
    {
     "name": "stdout",
     "output_type": "stream",
     "text": [
      "<class 'Bio.SeqIO.FastaIO.FastaIterator'>\n",
      "<class 'Bio.SeqRecord.SeqRecord'>\n",
      "ID: gi|186681228|ref|YP_001864424.1|\n",
      "Name: gi|186681228|ref|YP_001864424.1|\n",
      "Description: gi|186681228|ref|YP_001864424.1| phycoerythrobilin:ferredoxin oxidoreductase\n",
      "Number of features: 0\n",
      "Seq('MNSERSDVTLYQPFLDYAIAYMRSRLDLEPYPIPTGFESNSAVVGKGKNQEEVV...VVK')\n",
      "\n",
      "<class 'Bio.SeqRecord.SeqRecord'>\n",
      "ID: gi|2695690|gb|AF036760.1|\n",
      "Name: gi|2695690|gb|AF036760.1|\n",
      "Description: gi|2695690|gb|AF036760.1| Rattus norvegicus BRCA1 mRNA, complete cds\n",
      "Number of features: 0\n",
      "Seq('CGCTGGTGCAACTCGAAGACCTATCTCCTTCCCGGGGGGGCTTCTCCGGCATTT...AAT')\n",
      "\n"
     ]
    }
   ],
   "source": [
    "# SeqIO.parse()메서드로 레코드 2개 파일 읽기\n",
    "# 6.1.1.parse_example_2.py\n",
    "\n",
    "from Bio import SeqIO\n",
    "\n",
    "seq = SeqIO.parse(\"sample_2.fasta\", \"fasta\")\n",
    "print(type(seq))\n",
    "for s in seq:\n",
    "    print(type(s))\n",
    "    print(s)\n",
    "    print(\"\")"
   ]
  },
  {
   "cell_type": "markdown",
   "id": "1d883ea9",
   "metadata": {},
   "source": [
    "### SeqIO모듈_FASTA 파일 읽기2\n",
    "SeqIO.read()"
   ]
  },
  {
   "cell_type": "code",
   "execution_count": 6,
   "id": "8b6e29a5",
   "metadata": {},
   "outputs": [
    {
     "name": "stdout",
     "output_type": "stream",
     "text": [
      "<class 'Bio.SeqRecord.SeqRecord'>\n",
      "ID: gi|5524211|gb|AAD44166.1|\n",
      "Name: gi|5524211|gb|AAD44166.1|\n",
      "Description: gi|5524211|gb|AAD44166.1| cytochrome b [Elephas maximus maximu]\n",
      "Number of features: 0\n",
      "Seq('LCLYTHIGRNIYYGSYLYSETWNTGIMLLLITMATAFMGYVLPWGQMSFWGATV...ENY')\n"
     ]
    }
   ],
   "source": [
    "# SeqIO.read()메서드로 레코드 1개 파일 읽기\n",
    "# 6.1.2.read_example_1.py\n",
    "\n",
    "from Bio import SeqIO\n",
    "\n",
    "seq = SeqIO.read(\"sample_1.fasta\",\"fasta\")\n",
    "print(type(seq))\n",
    "print(seq)"
   ]
  },
  {
   "cell_type": "markdown",
   "id": "5354cf70",
   "metadata": {},
   "source": [
    "* SeqIO.parse()와 SeqIO.read()의 차이점: read()는 2개 이상의 레코드가 포함된 파일을 읽을 수 없다!"
   ]
  },
  {
   "cell_type": "markdown",
   "id": "1dfc076c",
   "metadata": {},
   "source": [
    "### SeqIO모듈_FASTQ 파일 읽기1\n",
    "SeqIO.parse()\n",
    "* 일반적으로 fastq파일은 여러 개의 리드들이 1개의 파일에 들어있으므로 SeqIO.read()메서드를 사용하면 오류 남"
   ]
  },
  {
   "cell_type": "code",
   "execution_count": 7,
   "id": "680e8889",
   "metadata": {},
   "outputs": [
    {
     "name": "stdout",
     "output_type": "stream",
     "text": [
      "<class 'Bio.SeqIO.QualityIO.FastqPhredIterator'>\n",
      "<class 'Bio.SeqRecord.SeqRecord'>\n",
      "ID: gi|2695690|gb|AF036760.1|\n",
      "Name: gi|2695690|gb|AF036760.1|\n",
      "Description: gi|2695690|gb|AF036760.1| Rattus norvegicus BRCA1 mRNA, complete cds\n",
      "Number of features: 0\n",
      "Seq('CGCTGGTGCAACTCGAAGACCTATCTCCTTCCCGGGGGGGCTTCTCCGGCATTT...AAT')\n",
      "\n"
     ]
    }
   ],
   "source": [
    "# SeqIO.parse()메서드로 FASTQ 파일 읽기\n",
    "# 6.2.1.read_example_1.py\n",
    "\n",
    "from Bio import SeqIO\n",
    "\n",
    "seq = SeqIO.parse(\"sample_1.fastq\", \"fastq\")\n",
    "print(type(seq))\n",
    "for i in seq:\n",
    "    print(type(s))\n",
    "    print(s)\n",
    "    print(\"\")"
   ]
  },
  {
   "cell_type": "code",
   "execution_count": 8,
   "id": "6cd60510",
   "metadata": {},
   "outputs": [
    {
     "name": "stdout",
     "output_type": "stream",
     "text": [
      "GATTTGGGGTTCAAAGCAGTATCGATCAAATAGTAAATCCATTTGTTCAACTCACAGTTT\n"
     ]
    }
   ],
   "source": [
    "# SeqIO.parse()메서드를 사용하여 FASTQ파일에서 서열 부분만 가져오기\n",
    "#6.2.1.read_example_2.py\n",
    "\n",
    "from Bio import SeqIO\n",
    "\n",
    "seq = SeqIO.parse(\"sample_1.fastq\",\"fastq\")\n",
    "for s in seq:\n",
    "    print(s.seq) #서열만 출력"
   ]
  },
  {
   "cell_type": "markdown",
   "id": "8384773b",
   "metadata": {},
   "source": [
    "### SeqIO모듈_FASTQ 파일 읽기2\n",
    "SeqIO.parse()메서드로 압축된 FASTQ파일 읽기\n",
    "* 연구나 업무에서 다루는 대부분의 FASTQ 파일은 압축된 형태임\n",
    "* 압축 포맷: gzip 파일 형태\n",
    "* gzip모듈 사용하면 압축된 fastq파일인 fastq.gz 파일 읽을 수 있다"
   ]
  },
  {
   "cell_type": "code",
   "execution_count": null,
   "id": "905f7590",
   "metadata": {},
   "outputs": [],
   "source": [
    "#압축 fastq파일이 없어서 오류 뜨기 때문에 주석처리함\n",
    "#6.2.2.read_example_1.py\n",
    "\n",
    "#import gzip\n",
    "#from Bio import SeqIO\n",
    "\n",
    "#handle = gzip.open(\"sample_1.fastq.gz\",\"rt\")\n",
    "#seq = SeqIO.parse(handle, \"fastq\")\n",
    "#for s in seq:\n",
    "    #print(s.seq)"
   ]
  },
  {
   "cell_type": "code",
   "execution_count": 13,
   "id": "91b5e8c7",
   "metadata": {},
   "outputs": [],
   "source": [
    "#압축 fastq파일 없어서 오류 뜨기 때문에 주석 처리함\n",
    "# SeqIO.parse()메서드로 압축된 fastq파일 with gzip.open()으로 읽고 서열만 출력\n",
    "#6.2.2.read_example_2.py\n",
    "\n",
    "#import gzip\n",
    "#from Bio import SeqIO\n",
    "\n",
    "#with gzip.open(\"sample_1.fastq.gz\",\"rt\") as handle:\n",
    "    #seq = SeqIO.parse(handle, \"fastq\")\n",
    "    #for s in seq:\n",
    "        #print(s.seq)"
   ]
  },
  {
   "cell_type": "markdown",
   "id": "f911e41a",
   "metadata": {},
   "source": [
    "### GenBank 파일 읽기"
   ]
  },
  {
   "cell_type": "code",
   "execution_count": 14,
   "id": "ef49aa4d",
   "metadata": {},
   "outputs": [
    {
     "name": "stdout",
     "output_type": "stream",
     "text": [
      "<class 'Bio.SeqRecord.SeqRecord'>\n",
      "ID: NC_019843.3\n",
      "Name: NC_019843\n",
      "Description: Middle East respiratory syndrome-related coronavirus isolate HCoV-EMC/2012, complete genome\n",
      "Database cross-references: BioProject:PRJNA485481\n",
      "Number of features: 50\n",
      "/molecule_type=RNA\n",
      "/topology=linear\n",
      "/data_file_division=VRL\n",
      "/date=08-AUG-2020\n",
      "/accessions=['NC_019843']\n",
      "/sequence_version=3\n",
      "/keywords=['RefSeq']\n",
      "/source=Middle East respiratory syndrome-related coronavirus\n",
      "/organism=Middle East respiratory syndrome-related coronavirus\n",
      "/taxonomy=['Viruses', 'Riboviria', 'Orthornavirae', 'Pisuviricota', 'Pisoniviricetes', 'Nidovirales', 'Cornidovirineae', 'Coronaviridae', 'Orthocoronavirinae', 'Betacoronavirus', 'Merbecovirus']\n",
      "/references=[Reference(title='Isolation of a novel coronavirus from a man with pneumonia in Saudi Arabia', ...), Reference(title='Genomic characterization of a newly discovered coronavirus associated with acute respiratory distress syndrome in humans', ...), Reference(title='Direct Submission', ...), Reference(title='Direct Submission', ...), Reference(title='Direct Submission', ...)]\n",
      "/comment=REVIEWED REFSEQ: This record has been curated by NCBI staff. The\n",
      "reference sequence is identical to JX869059.\n",
      "On Jul 23, 2014 this sequence version replaced NC_019843.2.\n",
      "The annotation was added based on JX869059.2 and the information\n",
      "found in PMID: 23170002 and PMID: 2581041.\n",
      "COMPLETENESS: full length.\n",
      "/structured_comment=OrderedDict([('Assembly-Data', OrderedDict([('Assembly Method', 'CLC Genomics Workbench v. 5.5.1'), ('Sequencing Technology', '454; Sanger dideoxy sequencing')]))])\n",
      "Seq('GATTTAAGTGAATAGCTTGGCTATCTCACTTCCCCTCGTTCTCTTGCAGAACTT...AAA')\n"
     ]
    }
   ],
   "source": [
    "#6.3.read_example_1.py\n",
    "#메르스 바이러스에 대한 GenBank파일 사용\n",
    "#SeqIO.read()\n",
    "\n",
    "from Bio import SeqIO\n",
    "\n",
    "gbk = SeqIO.read(\"sequence-2.gb\",\"genbank\")\n",
    "print(type(gbk))\n",
    "print(gbk)"
   ]
  },
  {
   "cell_type": "code",
   "execution_count": 15,
   "id": "20de473f",
   "metadata": {},
   "outputs": [
    {
     "name": "stdout",
     "output_type": "stream",
     "text": [
      "NC_019843.3\n",
      "Middle East respiratory syndrome-related coronavirus isolate HCoV-EMC/2012, complete genome\n",
      "RNA\n",
      "Middle East respiratory syndrome-related coronavirus\n"
     ]
    }
   ],
   "source": [
    "#6.3.read_example_2.py\n",
    "#많은 정보 중에서 필요한 정보만 가져오기\n",
    "#SeqIO.read()\n",
    "\n",
    "from Bio import SeqIO\n",
    "\n",
    "gbk = SeqIO.read(\"sequence-2.gb\",\"genbank\")\n",
    "print(gbk.id)\n",
    "print(gbk.description)\n",
    "print(gbk.annotations['molecule_type'])\n",
    "print(gbk.annotations['organism'])"
   ]
  },
  {
   "cell_type": "markdown",
   "id": "89ffb71c",
   "metadata": {},
   "source": [
    "### 인터넷을 통해 파일 읽기: CCR5유전자와 HIV저항성\n",
    "바이오파이썬의 Entrez모듈을 통해 인터넷상의 데이터를 받아와 SeqIO모듈로 읽는 방법"
   ]
  },
  {
   "cell_type": "markdown",
   "id": "8cde2ae3",
   "metadata": {},
   "source": [
    "* Entrez모듈: NCBI정보를 웹을 통해 접근하여 정보를 가져오는 모듈"
   ]
  },
  {
   "cell_type": "code",
   "execution_count": 16,
   "id": "73016271",
   "metadata": {},
   "outputs": [
    {
     "name": "stdout",
     "output_type": "stream",
     "text": [
      "LOCUS       AY463215                1059 bp    DNA     linear   PRI 14-DEC-2004\n",
      "DEFINITION  Homo sapiens CCR5 chemokine receptor (CCR5) gene, complete cds.\n",
      "ACCESSION   AY463215\n",
      "VERSION     AY463215.1\n",
      "KEYWORDS    .\n",
      "SOURCE      Homo sapiens (human)\n",
      "ORGANISM  Homo sapiens\n",
      "Eukaryota; Metazoa; Chordata; Craniata; Vertebrata; Euteleostomi;\n",
      "Mammalia; Eutheria; Euarchontoglires; Primates; Haplorrhini;\n",
      "Catarrhini; Hominidae; Homo.\n",
      "REFERENCE   1  (bases 1 to 1059)\n",
      "AUTHORS   Capoulade-Metay,C., Ma,L., Truong,L.X., Dudoit,Y., Versmisse,P.,\n",
      "Nguyen,N.V., Nguyen,M., Scott-Algara,D., Barre-Sinoussi,F.,\n",
      "Debre,P., Bismuth,G., Pancino,G. and Theodorou,I.\n",
      "TITLE     New CCR5 variants associated with reduced HIV coreceptor function\n",
      "in southeast Asia\n",
      "JOURNAL   AIDS 18 (17), 2243-2252 (2004)\n",
      "PUBMED   15577536\n",
      "REFERENCE   2  (bases 1 to 1059)\n",
      "AUTHORS   Capoulade-Metay,C., Ma,L., Truong,L.X., Dudoit,Y., Versmisse,P.,\n",
      "Nguyen,N.V., Nguyen,M., Scott-Algara,D., Barre-Sinoussi,F.,\n",
      "Debre,P., Pancino,G. and Theodorou,I.\n",
      "TITLE     Direct Submission\n",
      "JOURNAL   Submitted (07-NOV-2003) INSERM U543, 83 Boulevard de l'Hopital,\n",
      "Paris 75013, France\n",
      "FEATURES             Location/Qualifiers\n",
      "source          1..1059\n",
      "/organism=\"Homo sapiens\"\n",
      "/mol_type=\"genomic DNA\"\n",
      "/db_xref=\"taxon:9606\"\n",
      "/country=\"Viet Nam\"\n",
      "gene            <1..>1059\n",
      "/gene=\"CCR5\"\n",
      "mRNA            <1..>1059\n",
      "/gene=\"CCR5\"\n",
      "/product=\"CCR5 chemokine receptor\"\n",
      "CDS             1..1059\n",
      "/gene=\"CCR5\"\n",
      "/note=\"contains I254T variation\"\n",
      "/codon_start=1\n",
      "/product=\"CCR5 chemokine receptor\"\n",
      "/protein_id=\"AAS19314.1\"\n",
      "/translation=\"MDYQVSSPIYDINYYTSEPCQKINVKQIAARLLPPLYSLVFIFG\n",
      "FVGNMLVILILINCKRLKSMTDIYLLNLAISDLFFLLTVPFWAHYAAAQWDFGNTMCQ\n",
      "LLTGLYFIGFFSGIFFIILLTIDRYLAVVHAVFALKARTVTFGVVTSVITWVVAVFAS\n",
      "LPGIIFTRSQKEGLHYTCSSHFPYSQYQFWKNFQTLKIVILGLVLPLLVMVICYSGIL\n",
      "KTLLRCRNEKKRHRAVRLIFTIMIVYFLFWAPYNTVLLLNTFQEFFGLNNCSSSNRLD\n",
      "QAMQVTETLGMTHCCINPIIYAFVGEKFRNYLLVFFQKHIAKRFCKCCSIFQQEAPER\n",
      "ASSVYTRSTGEQEISVGL\"\n",
      "variation       758\n",
      "/gene=\"CCR5\"\n",
      "/replace=\"t\"\n",
      "ORIGIN\n",
      "1 atggattatc aagtgtcaag tccaatctat gacatcaatt attatacatc ggagccctgc\n",
      "61 caaaaaatca atgtgaagca aatcgcagcc cgcctcctgc ctccgctcta ctcactggtg\n",
      "121 ttcatctttg gttttgtggg caacatgctg gtcatcctca tcctgataaa ctgcaaaagg\n",
      "181 ctgaagagca tgactgacat ctacctgctc aacctggcca tctctgacct gtttttcctt\n",
      "241 cttactgtcc ccttctgggc tcactatgct gccgcccagt gggactttgg aaatacaatg\n",
      "301 tgtcaactct tgacagggct ctattttata ggcttcttct ctggaatctt cttcatcatc\n",
      "361 ctcctgacaa tcgataggta cctggctgtc gtccatgctg tgtttgcttt aaaagccagg\n",
      "421 acggtcacct ttggggtggt gacaagtgtg atcacttggg tggtggctgt gtttgcgtct\n",
      "481 ctcccaggaa tcatctttac cagatctcaa aaagaaggtc ttcattacac ctgcagctct\n",
      "541 cattttccat acagtcagta tcaattctgg aagaatttcc agacattaaa gatagtcatc\n",
      "601 ttggggctgg tcctgccgct gcttgtcatg gtcatctgct actcgggaat cctaaaaact\n",
      "661 ctgcttcggt gtcgaaatga gaagaagagg cacagggctg tgaggcttat cttcaccatc\n",
      "721 atgattgttt attttctctt ctgggctccc tacaacactg tccttctcct gaacaccttc\n",
      "781 caggaattct ttggcctgaa taattgcagt agctctaaca ggttggacca agctatgcag\n",
      "841 gtgacagaga ctcttgggat gacgcactgc tgcatcaacc ccatcatcta tgcctttgtc\n",
      "901 ggggagaagt tcagaaacta cctcttagtc ttcttccaaa agcacattgc caaacgcttc\n",
      "961 tgcaaatgct gttctatttt ccagcaagag gctcccgagc gagcaagctc agtttacacc\n",
      "1021 cgatccactg gggagcagga aatatctgtg ggcttgtga\n",
      "//\n",
      "\n"
     ]
    }
   ],
   "source": [
    "#6.4.2.entrez_example.py\n",
    "#Entrez.efetch()메서드 -> 인자로 데이터베이스이름(db), 데이터형식(rettype),\n",
    "#아이디(id), 반환형식(retmode)에 대해 써줘야함\n",
    "#CCR5유전자에 대해 GenBank형식으로 받아오는 방법에 대한 예시(변이X)\n",
    "\n",
    "from Bio import Entrez\n",
    "\n",
    "Entrez.email = \"seeminglly@naver.com\"\n",
    "handle = Entrez.efetch(db=\"nucleotide\", rettype=\"gb\", id=\"AY463215\", retmode=\"text\")\n",
    "for s in handle:\n",
    "    print(s.strip())"
   ]
  },
  {
   "cell_type": "markdown",
   "id": "547e0dfd",
   "metadata": {},
   "source": [
    "* Entrez모듈로 CCR5 유전자 정보 읽기"
   ]
  },
  {
   "cell_type": "code",
   "execution_count": 17,
   "id": "1f14b287",
   "metadata": {},
   "outputs": [
    {
     "name": "stdout",
     "output_type": "stream",
     "text": [
      "ID: AY463215.1\n",
      "Name: AY463215.1\n",
      "Description: AY463215.1 Homo sapiens CCR5 chemokine receptor (CCR5) gene, complete cds\n",
      "Number of features: 0\n",
      "Seq('ATGGATTATCAAGTGTCAAGTCCAATCTATGACATCAATTATTATACATCGGAG...TGA')\n",
      "1059\n"
     ]
    }
   ],
   "source": [
    "#6.4.3.read_example_GenBank_1.py\n",
    "#변이가 없는 CCR5유전자를 Entrez모듈로 정보를 받아와 서열과 길이 계산\n",
    "\n",
    "from Bio import Entrez\n",
    "from Bio import SeqIO\n",
    "\n",
    "Entrez.email = \"seeminglly@naver.com\"\n",
    "\n",
    "with Entrez.efetch(db=\"nucleotide\",rettype=\"fasta\",id=\"42540826\",retmode=\"type\")as handle:\n",
    "    seq = SeqIO.read(handle,\"fasta\")\n",
    "    \n",
    "print(seq)\n",
    "print(len(seq))"
   ]
  },
  {
   "cell_type": "code",
   "execution_count": 18,
   "id": "d71f24bf",
   "metadata": {},
   "outputs": [
    {
     "name": "stdout",
     "output_type": "stream",
     "text": [
      "ID: U66285.1\n",
      "Name: U66285.1\n",
      "Description: U66285.1 Human CC chemokine receptor CCR5 gene, mutant allele, complete cds\n",
      "Number of features: 0\n",
      "Seq('ATGGATTATCAAGTGTCAAGTCCAATCTATGACATCAATTATTATACATCGGAG...TGA')\n",
      "1027\n"
     ]
    }
   ],
   "source": [
    "#6.4.3.read_example_GenBank_2.py\n",
    "#변이가 있는 CCR5유전자\n",
    "\n",
    "from Bio import Entrez\n",
    "from Bio import SeqIO\n",
    "\n",
    "Entrez.email = \"seeminglly@naver.com\"\n",
    "\n",
    "with Entrez.efetch(db=\"nucleotide\", rettype=\"fasta\", retmode=\"text\", id=\"1575550\") as handle:\n",
    "    seq = SeqIO.read(handle, \"fasta\")\n",
    "\n",
    "print(seq)\n",
    "print(len(seq))"
   ]
  },
  {
   "cell_type": "code",
   "execution_count": null,
   "id": "a8de186f",
   "metadata": {},
   "outputs": [],
   "source": []
  }
 ],
 "metadata": {
  "kernelspec": {
   "display_name": "Python 3",
   "language": "python",
   "name": "python3"
  },
  "language_info": {
   "codemirror_mode": {
    "name": "ipython",
    "version": 3
   },
   "file_extension": ".py",
   "mimetype": "text/x-python",
   "name": "python",
   "nbconvert_exporter": "python",
   "pygments_lexer": "ipython3",
   "version": "3.8.8"
  }
 },
 "nbformat": 4,
 "nbformat_minor": 5
}
